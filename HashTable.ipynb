{
 "cells": [
  {
   "cell_type": "code",
   "execution_count": 37,
   "metadata": {},
   "outputs": [],
   "source": [
    "import math "
   ]
  },
  {
   "cell_type": "code",
   "execution_count": 38,
   "metadata": {},
   "outputs": [],
   "source": [
    "class Hash_Table:\n",
    "    def __init__(self):\n",
    "        self.table = [0] * 31\n",
    "        self.buckets = 0 \n",
    "        self.load_factor = 0 \n",
    "    def firstHash(self, str):\n",
    "        for i in str:\n",
    "            hash = (33*ord(i)+27) % len(self.table)\n",
    "        return hash\n",
    "    def secondHash(self, str):\n",
    "        for i in str:\n",
    "            hash = math.floor(ord(i)*31 % 2 * len(self.table))\n",
    "        return hash\n",
    "    def insert(self, key, value):\n",
    "        self.buckets += 1 \n",
    "        self.load_factor = self.buckets / len(self.table)\n",
    "        index = self.firstHash(key)\n",
    "        if self.table[index] == None:\n",
    "            self.table[index] = value\n",
    "        else:\n",
    "            new_index = self.firstHash(key) + index * self.secondHash(key) % len(self.table)\n",
    "            self.table[new_index] = value\n",
    "    def search(self, key):\n",
    "        index = self.firstHash(key)\n",
    "        value = self.table[index]\n",
    "        return value\n",
    "    def delete(self, key):\n",
    "        index = self.search(key)\n",
    "        self.table[index] = None\n",
    "        return f'Key \"{key}\" was deleted from the hash table!'"
   ]
  },
  {
   "cell_type": "code",
   "execution_count": 39,
   "metadata": {},
   "outputs": [
    {
     "data": {
      "text/plain": [
       "7"
      ]
     },
     "execution_count": 39,
     "metadata": {},
     "output_type": "execute_result"
    }
   ],
   "source": [
    "hash_table = Hash_Table()\n",
    "hash_table.insert('A', 7)\n",
    "hash_table.search('A')\n"
   ]
  },
  {
   "cell_type": "code",
   "execution_count": 40,
   "metadata": {},
   "outputs": [
    {
     "data": {
      "text/plain": [
       "'Key \"A\" was deleted from the hash table!'"
      ]
     },
     "execution_count": 40,
     "metadata": {},
     "output_type": "execute_result"
    }
   ],
   "source": [
    "hash_table.delete('A')"
   ]
  }
 ],
 "metadata": {
  "kernelspec": {
   "display_name": "Python 3",
   "language": "python",
   "name": "python3"
  },
  "language_info": {
   "codemirror_mode": {
    "name": "ipython",
    "version": 3
   },
   "file_extension": ".py",
   "mimetype": "text/x-python",
   "name": "python",
   "nbconvert_exporter": "python",
   "pygments_lexer": "ipython3",
   "version": "3.12.1"
  }
 },
 "nbformat": 4,
 "nbformat_minor": 2
}
