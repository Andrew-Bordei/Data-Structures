{
 "cells": [
  {
   "cell_type": "code",
   "execution_count": 321,
   "metadata": {},
   "outputs": [],
   "source": [
    "class Node:\n",
    "    def __init__(self, data=0, next_node=None):\n",
    "        self.data = data \n",
    "        self.next_node = next_node"
   ]
  },
  {
   "cell_type": "code",
   "execution_count": 322,
   "metadata": {},
   "outputs": [],
   "source": [
    "class Linked_List:\n",
    "    def __init__(self, head=None):\n",
    "        self.head = head \n",
    "        self.size = 0 \n",
    "\n",
    "    def insert_end(self,data):\n",
    "        self.size += 1\n",
    "        new_node = Node(data)\n",
    "        if self.head is None:\n",
    "            self.head = new_node\n",
    "            return \n",
    "        current = self.head \n",
    "        while True: \n",
    "            if current.next_node is None: \n",
    "                current.next_node = new_node\n",
    "                break \n",
    "            current = current.next_node\n",
    "\n",
    "    def search(self,data):\n",
    "        current = self.head \n",
    "        while current != None and current.data != data:\n",
    "            current = current.next_node\n",
    "        return current.data\n",
    "    \n",
    "    def delete(self, data):\n",
    "        dummy = Node(next_node=self.head)\n",
    "        previous = dummy  \n",
    "        current = self.head\n",
    "        while current:\n",
    "            if current.data == data:\n",
    "                previous.next_node = current.next_node\n",
    "                self.size-=1\n",
    "            else:\n",
    "                previous = current\n",
    "            current = current.next_node\n",
    "        return dummy.next_node\n",
    "    \n",
    "    def length(self): return self.size\n",
    "\n",
    "    def print_list(self):\n",
    "        current = self.head \n",
    "        while current != None:\n",
    "            print(current.data)\n",
    "            current = current.next_node\n",
    "        print(\"None\")"
   ]
  },
  {
   "cell_type": "code",
   "execution_count": 323,
   "metadata": {},
   "outputs": [
    {
     "name": "stdout",
     "output_type": "stream",
     "text": [
      "4\n",
      "5\n",
      "6\n",
      "7\n",
      "None\n"
     ]
    }
   ],
   "source": [
    "linked_list = Linked_List()\n",
    "linked_list.insert_end(4)\n",
    "linked_list.insert_end(5)\n",
    "linked_list.insert_end(6)\n",
    "linked_list.insert_end(7)\n",
    "linked_list.print_list()"
   ]
  },
  {
   "cell_type": "code",
   "execution_count": 324,
   "metadata": {},
   "outputs": [
    {
     "name": "stdout",
     "output_type": "stream",
     "text": [
      "4\n",
      "5\n",
      "6\n",
      "None\n"
     ]
    }
   ],
   "source": [
    "linked_list.delete(7)\n",
    "linked_list.print_list()"
   ]
  },
  {
   "cell_type": "code",
   "execution_count": 325,
   "metadata": {},
   "outputs": [
    {
     "data": {
      "text/plain": [
       "5"
      ]
     },
     "execution_count": 325,
     "metadata": {},
     "output_type": "execute_result"
    }
   ],
   "source": [
    "linked_list.search(5)"
   ]
  },
  {
   "cell_type": "code",
   "execution_count": 326,
   "metadata": {},
   "outputs": [
    {
     "data": {
      "text/plain": [
       "3"
      ]
     },
     "execution_count": 326,
     "metadata": {},
     "output_type": "execute_result"
    }
   ],
   "source": [
    "linked_list.length()"
   ]
  }
 ],
 "metadata": {
  "kernelspec": {
   "display_name": "Python 3",
   "language": "python",
   "name": "python3"
  },
  "language_info": {
   "codemirror_mode": {
    "name": "ipython",
    "version": 3
   },
   "file_extension": ".py",
   "mimetype": "text/x-python",
   "name": "python",
   "nbconvert_exporter": "python",
   "pygments_lexer": "ipython3",
   "version": "3.12.1"
  }
 },
 "nbformat": 4,
 "nbformat_minor": 2
}
