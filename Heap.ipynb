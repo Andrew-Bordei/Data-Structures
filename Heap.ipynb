{
 "cells": [
  {
   "cell_type": "code",
   "execution_count": 246,
   "metadata": {},
   "outputs": [],
   "source": [
    "class heap:\n",
    "    def __init__(self,array,length):\n",
    "        self.array = array \n",
    "        self.heap_size = length\n",
    "    \n",
    "    def Left(self, index):\n",
    "        return 2*index \n",
    "    \n",
    "    def Right(self,index):\n",
    "        return 2*index + 1 \n",
    "    \n",
    "    def Parent(self, index):\n",
    "        return index//2\n",
    "    \n",
    "    def max_heapify(self,array, index):\n",
    "        self.left = self.Left(index)\n",
    "        right = self.Right(index)\n",
    "\n",
    "        largest = index\n",
    "\n",
    "        if self.left < len(array) and array[self.left] > array[index]:\n",
    "            largest = self.left \n",
    "\n",
    "        if right < len(array) and array[right] > array[largest]:\n",
    "            largest = right \n",
    "\n",
    "        if largest != index:\n",
    "            array[index], array[largest] = array[largest], array[index]\n",
    "            self.max_heapify(array,largest)\n",
    "\n",
    "    def build_max_heap(self,array):\n",
    "        for i in range(len(array)//2,-1,-1):\n",
    "            self.max_heapify(array,i)\n",
    "\n",
    "    def extract_max(self,array):\n",
    "        if len(array) < 1:\n",
    "            print(\"Error Heap underflow!\")\n",
    "        \n",
    "        max = array[0]\n",
    "        array[0] = array[self.heap_size-1]\n",
    "        self.heap_size = self.heap_size -1 \n",
    "        self.max_heapify(array,0)\n",
    "        return max \n",
    "    \n",
    "    def increase_key(self,index,key):\n",
    "        if key < self.array[index]:\n",
    "            print(\"Error new key is smaller than current key\")\n",
    "        self.array[index] = key \n",
    "        while index > 1 and self.array[self.Parent(index)] < self.array[index]:\n",
    "            self.array[index], self.array[self.Parent(index)] = self.array[self.Parent(index)], self.array[index]\n",
    "            index = self.Parent(index)  \n",
    "\n",
    "    def decrease_key(self,index,key):\n",
    "        if self.array[index] < key:\n",
    "            print(\"Error new key is larger than current key!\")\n",
    "        self.array[index] = key \n",
    "        self.max_heapify(self.array, index)\n",
    "\n",
    "    def insert(self,key):\n",
    "        self.heap_size +=1 \n",
    "        # self.array[self.heap_size] = -infinity, how would I represent that in code?? \n",
    "        self.increase_key(self.heap_size, key) "
   ]
  },
  {
   "cell_type": "code",
   "execution_count": 247,
   "metadata": {},
   "outputs": [],
   "source": [
    "array = [51,13, 2, 20, 6, 12, 72, 1, 7, 9, 3, 89, 23, 31, 90, 10]"
   ]
  },
  {
   "cell_type": "code",
   "execution_count": 248,
   "metadata": {},
   "outputs": [],
   "source": [
    "hp = heap(array,len(array))\n",
    "hp.build_max_heap(array)"
   ]
  },
  {
   "cell_type": "code",
   "execution_count": 249,
   "metadata": {},
   "outputs": [
    {
     "data": {
      "text/plain": [
       "[90, 89, 51, 72, 9, 12, 31, 20, 7, 6, 3, 2, 23, 13, 1, 10]"
      ]
     },
     "execution_count": 249,
     "metadata": {},
     "output_type": "execute_result"
    }
   ],
   "source": [
    "array"
   ]
  },
  {
   "cell_type": "code",
   "execution_count": 250,
   "metadata": {},
   "outputs": [],
   "source": [
    "hp.increase_key(1,105)"
   ]
  },
  {
   "cell_type": "code",
   "execution_count": 251,
   "metadata": {},
   "outputs": [],
   "source": [
    "# hp.decrease_key(1,13)"
   ]
  },
  {
   "cell_type": "code",
   "execution_count": 252,
   "metadata": {},
   "outputs": [
    {
     "data": {
      "text/plain": [
       "[90, 105, 51, 72, 9, 12, 31, 20, 7, 6, 3, 2, 23, 13, 1, 10]"
      ]
     },
     "execution_count": 252,
     "metadata": {},
     "output_type": "execute_result"
    }
   ],
   "source": [
    "array"
   ]
  },
  {
   "cell_type": "code",
   "execution_count": 253,
   "metadata": {},
   "outputs": [
    {
     "data": {
      "text/plain": [
       "90"
      ]
     },
     "execution_count": 253,
     "metadata": {},
     "output_type": "execute_result"
    }
   ],
   "source": [
    "hp.extract_max(array)"
   ]
  },
  {
   "cell_type": "code",
   "execution_count": 254,
   "metadata": {},
   "outputs": [
    {
     "data": {
      "text/plain": [
       "[105, 72, 51, 31, 9, 12, 23, 20, 7, 6, 3, 2, 10, 13, 1, 10]"
      ]
     },
     "execution_count": 254,
     "metadata": {},
     "output_type": "execute_result"
    }
   ],
   "source": [
    "array"
   ]
  }
 ],
 "metadata": {
  "kernelspec": {
   "display_name": "Python 3",
   "language": "python",
   "name": "python3"
  },
  "language_info": {
   "codemirror_mode": {
    "name": "ipython",
    "version": 3
   },
   "file_extension": ".py",
   "mimetype": "text/x-python",
   "name": "python",
   "nbconvert_exporter": "python",
   "pygments_lexer": "ipython3",
   "version": "3.12.1"
  }
 },
 "nbformat": 4,
 "nbformat_minor": 2
}
