{
 "cells": [
  {
   "cell_type": "code",
   "execution_count": 93,
   "metadata": {},
   "outputs": [],
   "source": [
    "class Queue:\n",
    "    def __init__(self, limit):\n",
    "        self.front = 0 \n",
    "        self.tail = limit -1\n",
    "        self.size = 0 \n",
    "        self.limit = limit \n",
    "        self.queue = [None]*limit \n",
    "\n",
    "    def is_full(self):\n",
    "        return self.size == self.limit\n",
    "    \n",
    "    def is_empty(self):\n",
    "        return self.size == 0\n",
    "        \n",
    "    def enqueue(self,x):\n",
    "        if self.is_full():\n",
    "            print(\"Queue full!\")\n",
    "            return \n",
    "        elif self.is_empty():\n",
    "            self.front = 0 \n",
    "            self.tail = 0 \n",
    "        self.size +=1 \n",
    "        self.tail = (self.tail +1) % self.size \n",
    "        self.queue[self.tail] = x\n",
    "        print(f\"{x} has been enqueued!\")\n",
    "\n",
    "    def dequeue(self):\n",
    "        if self.is_empty():\n",
    "            print('Queue is empty!') \n",
    "            return \n",
    "        if (self.front == self.tail):\n",
    "            self.front -= 1 \n",
    "            self.tail  -= 1 \n",
    "        else:\n",
    "            self.front = self.front +1 % self.size \n",
    "            self.size -= 1 \n",
    "\n",
    "    def top(self):\n",
    "        if self.front == -1:\n",
    "            print(\"Empty Queue!\")\n",
    "            return \n",
    "        print(f\"Top is: {self.queue[self.front]}\")\n",
    "    \n",
    "    def tail_item(self):\n",
    "        if self.is_empty():\n",
    "            print(\"Empty Queue!\")\n",
    "            return   \n",
    "        print(f\"Tail is: {self.queue[self.tail]}\")\n",
    "    \n",
    "    def print_queue(self):\n",
    "        print(self.queue)\n"
   ]
  },
  {
   "cell_type": "code",
   "execution_count": 94,
   "metadata": {},
   "outputs": [
    {
     "name": "stdout",
     "output_type": "stream",
     "text": [
      "2 has been enqueued!\n",
      "7 has been enqueued!\n",
      "9 has been enqueued!\n"
     ]
    }
   ],
   "source": [
    "q = Queue(3)\n",
    "q.enqueue(2)\n",
    "q.enqueue(7)\n",
    "q.enqueue(9)"
   ]
  },
  {
   "cell_type": "code",
   "execution_count": 95,
   "metadata": {},
   "outputs": [
    {
     "name": "stdout",
     "output_type": "stream",
     "text": [
      "Top is: 2\n"
     ]
    }
   ],
   "source": [
    "q.top()"
   ]
  },
  {
   "cell_type": "code",
   "execution_count": 96,
   "metadata": {},
   "outputs": [
    {
     "name": "stdout",
     "output_type": "stream",
     "text": [
      "Tail is: 9\n"
     ]
    }
   ],
   "source": [
    "q.tail_item()"
   ]
  },
  {
   "cell_type": "code",
   "execution_count": 97,
   "metadata": {},
   "outputs": [
    {
     "name": "stdout",
     "output_type": "stream",
     "text": [
      "[2, 7, 9]\n"
     ]
    }
   ],
   "source": [
    "q.print_queue()"
   ]
  }
 ],
 "metadata": {
  "kernelspec": {
   "display_name": "Python 3",
   "language": "python",
   "name": "python3"
  },
  "language_info": {
   "codemirror_mode": {
    "name": "ipython",
    "version": 3
   },
   "file_extension": ".py",
   "mimetype": "text/x-python",
   "name": "python",
   "nbconvert_exporter": "python",
   "pygments_lexer": "ipython3",
   "version": "3.12.1"
  }
 },
 "nbformat": 4,
 "nbformat_minor": 2
}
