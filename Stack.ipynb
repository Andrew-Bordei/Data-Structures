{
 "cells": [
  {
   "cell_type": "code",
   "execution_count": 10,
   "metadata": {},
   "outputs": [],
   "source": [
    "class Stack:\n",
    "    def __init__(self,length_array):\n",
    "        self.stack = [0] * length_array\n",
    "        self.top = -1\n",
    "    def Push(self,x):\n",
    "        if self.top == len(self.stack)-1:\n",
    "            print('Stack overflow')\n",
    "        self.top += 1 \n",
    "        self.stack[self.top] = x \n",
    "    def Pop(self):\n",
    "        if self.top == -1:\n",
    "            print('Empty stack')\n",
    "        self.stack[self.top] = 0\n",
    "        self.top -= 1 \n",
    "    def Peek(self):\n",
    "        if self.top == -1: \n",
    "            print('Empty stack')\n",
    "        return self.stack[self.top]\n",
    "    def is_empty(self):\n",
    "        if self.top == -1:\n",
    "            return True\n",
    "        return False \n",
    "    def print_stack(self):\n",
    "        print(self.stack)"
   ]
  },
  {
   "cell_type": "code",
   "execution_count": 11,
   "metadata": {},
   "outputs": [
    {
     "name": "stdout",
     "output_type": "stream",
     "text": [
      "[7, 9, 0, 0, 0]\n"
     ]
    }
   ],
   "source": [
    "stack = Stack(5)\n",
    "stack.Push(7)\n",
    "stack.Push(9)\n",
    "stack.Pop()\n",
    "stack.print_stack()"
   ]
  },
  {
   "cell_type": "code",
   "execution_count": null,
   "metadata": {},
   "outputs": [],
   "source": []
  }
 ],
 "metadata": {
  "kernelspec": {
   "display_name": "Python 3",
   "language": "python",
   "name": "python3"
  },
  "language_info": {
   "codemirror_mode": {
    "name": "ipython",
    "version": 3
   },
   "file_extension": ".py",
   "mimetype": "text/x-python",
   "name": "python",
   "nbconvert_exporter": "python",
   "pygments_lexer": "ipython3",
   "version": "3.12.1"
  }
 },
 "nbformat": 4,
 "nbformat_minor": 2
}
